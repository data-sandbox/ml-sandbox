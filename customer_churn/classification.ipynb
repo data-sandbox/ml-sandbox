{
 "cells": [
  {
   "attachments": {},
   "cell_type": "markdown",
   "metadata": {},
   "source": [
    "### Classification: Customer Churn\n",
    "\n",
    "This project aims to build a machine learning classification model to predict customer churn. The dataset comes from [Kaggle](https://www.kaggle.com/datasets/blastchar/telco-customer-churn) and contains information about a fictional telco company. Each row represents a customer and each column contains customer attributes, which are a mix of numeric and categorical forms. Customers who left within the last month are labeled as churn.\n",
    "\n",
    "Objectives:\n",
    "1. Build a classifer model to predict customer churn and compare different estimators (Logistic Regression, Random Forest, Naive Bayes). \n",
    "2. Implement Cross Validation to minimize risk of overfitting.\n",
    "3. Implement methods to deal with class imbalance."
   ]
  },
  {
   "cell_type": "code",
   "execution_count": 106,
   "metadata": {},
   "outputs": [],
   "source": [
    "from pathlib import Path\n",
    "import pandas as pd\n",
    "\n",
    "from sklearn.preprocessing import LabelEncoder, OneHotEncoder, StandardScaler\n",
    "from sklearn.compose import ColumnTransformer\n",
    "from sklearn.model_selection import train_test_split\n",
    "from sklearn.pipeline import Pipeline\n",
    "from sklearn.linear_model import LogisticRegression\n",
    "from sklearn.ensemble import RandomForestClassifier\n",
    "from sklearn.naive_bayes import GaussianNB\n",
    "from sklearn import metrics\n",
    "\n",
    "import importlib\n",
    "import common"
   ]
  },
  {
   "cell_type": "code",
   "execution_count": 107,
   "metadata": {},
   "outputs": [
    {
     "name": "stdout",
     "output_type": "stream",
     "text": [
      "<class 'pandas.core.frame.DataFrame'>\n",
      "RangeIndex: 7043 entries, 0 to 7042\n",
      "Data columns (total 21 columns):\n",
      " #   Column            Non-Null Count  Dtype  \n",
      "---  ------            --------------  -----  \n",
      " 0   customerID        7043 non-null   object \n",
      " 1   gender            7043 non-null   object \n",
      " 2   SeniorCitizen     7043 non-null   int64  \n",
      " 3   Partner           7043 non-null   object \n",
      " 4   Dependents        7043 non-null   object \n",
      " 5   tenure            7043 non-null   int64  \n",
      " 6   PhoneService      7043 non-null   object \n",
      " 7   MultipleLines     7043 non-null   object \n",
      " 8   InternetService   7043 non-null   object \n",
      " 9   OnlineSecurity    7043 non-null   object \n",
      " 10  OnlineBackup      7043 non-null   object \n",
      " 11  DeviceProtection  7043 non-null   object \n",
      " 12  TechSupport       7043 non-null   object \n",
      " 13  StreamingTV       7043 non-null   object \n",
      " 14  StreamingMovies   7043 non-null   object \n",
      " 15  Contract          7043 non-null   object \n",
      " 16  PaperlessBilling  7043 non-null   object \n",
      " 17  PaymentMethod     7043 non-null   object \n",
      " 18  MonthlyCharges    7043 non-null   float64\n",
      " 19  TotalCharges      7043 non-null   object \n",
      " 20  Churn             7043 non-null   object \n",
      "dtypes: float64(1), int64(2), object(18)\n",
      "memory usage: 1.1+ MB\n"
     ]
    }
   ],
   "source": [
    "df = pd.read_csv(Path('WA_Fn-UseC_-Telco-Customer-Churn.csv'))\n",
    "df.info()"
   ]
  },
  {
   "cell_type": "code",
   "execution_count": 108,
   "metadata": {},
   "outputs": [
    {
     "data": {
      "text/html": [
       "<div>\n",
       "<style scoped>\n",
       "    .dataframe tbody tr th:only-of-type {\n",
       "        vertical-align: middle;\n",
       "    }\n",
       "\n",
       "    .dataframe tbody tr th {\n",
       "        vertical-align: top;\n",
       "    }\n",
       "\n",
       "    .dataframe thead th {\n",
       "        text-align: right;\n",
       "    }\n",
       "</style>\n",
       "<table border=\"1\" class=\"dataframe\">\n",
       "  <thead>\n",
       "    <tr style=\"text-align: right;\">\n",
       "      <th></th>\n",
       "      <th>customerID</th>\n",
       "      <th>gender</th>\n",
       "      <th>SeniorCitizen</th>\n",
       "      <th>Partner</th>\n",
       "      <th>Dependents</th>\n",
       "      <th>tenure</th>\n",
       "      <th>PhoneService</th>\n",
       "      <th>MultipleLines</th>\n",
       "      <th>InternetService</th>\n",
       "      <th>OnlineSecurity</th>\n",
       "      <th>...</th>\n",
       "      <th>DeviceProtection</th>\n",
       "      <th>TechSupport</th>\n",
       "      <th>StreamingTV</th>\n",
       "      <th>StreamingMovies</th>\n",
       "      <th>Contract</th>\n",
       "      <th>PaperlessBilling</th>\n",
       "      <th>PaymentMethod</th>\n",
       "      <th>MonthlyCharges</th>\n",
       "      <th>TotalCharges</th>\n",
       "      <th>Churn</th>\n",
       "    </tr>\n",
       "  </thead>\n",
       "  <tbody>\n",
       "    <tr>\n",
       "      <th>0</th>\n",
       "      <td>7590-VHVEG</td>\n",
       "      <td>Female</td>\n",
       "      <td>0</td>\n",
       "      <td>Yes</td>\n",
       "      <td>No</td>\n",
       "      <td>1</td>\n",
       "      <td>No</td>\n",
       "      <td>No phone service</td>\n",
       "      <td>DSL</td>\n",
       "      <td>No</td>\n",
       "      <td>...</td>\n",
       "      <td>No</td>\n",
       "      <td>No</td>\n",
       "      <td>No</td>\n",
       "      <td>No</td>\n",
       "      <td>Month-to-month</td>\n",
       "      <td>Yes</td>\n",
       "      <td>Electronic check</td>\n",
       "      <td>29.85</td>\n",
       "      <td>29.85</td>\n",
       "      <td>No</td>\n",
       "    </tr>\n",
       "    <tr>\n",
       "      <th>1</th>\n",
       "      <td>5575-GNVDE</td>\n",
       "      <td>Male</td>\n",
       "      <td>0</td>\n",
       "      <td>No</td>\n",
       "      <td>No</td>\n",
       "      <td>34</td>\n",
       "      <td>Yes</td>\n",
       "      <td>No</td>\n",
       "      <td>DSL</td>\n",
       "      <td>Yes</td>\n",
       "      <td>...</td>\n",
       "      <td>Yes</td>\n",
       "      <td>No</td>\n",
       "      <td>No</td>\n",
       "      <td>No</td>\n",
       "      <td>One year</td>\n",
       "      <td>No</td>\n",
       "      <td>Mailed check</td>\n",
       "      <td>56.95</td>\n",
       "      <td>1889.5</td>\n",
       "      <td>No</td>\n",
       "    </tr>\n",
       "    <tr>\n",
       "      <th>2</th>\n",
       "      <td>3668-QPYBK</td>\n",
       "      <td>Male</td>\n",
       "      <td>0</td>\n",
       "      <td>No</td>\n",
       "      <td>No</td>\n",
       "      <td>2</td>\n",
       "      <td>Yes</td>\n",
       "      <td>No</td>\n",
       "      <td>DSL</td>\n",
       "      <td>Yes</td>\n",
       "      <td>...</td>\n",
       "      <td>No</td>\n",
       "      <td>No</td>\n",
       "      <td>No</td>\n",
       "      <td>No</td>\n",
       "      <td>Month-to-month</td>\n",
       "      <td>Yes</td>\n",
       "      <td>Mailed check</td>\n",
       "      <td>53.85</td>\n",
       "      <td>108.15</td>\n",
       "      <td>Yes</td>\n",
       "    </tr>\n",
       "    <tr>\n",
       "      <th>3</th>\n",
       "      <td>7795-CFOCW</td>\n",
       "      <td>Male</td>\n",
       "      <td>0</td>\n",
       "      <td>No</td>\n",
       "      <td>No</td>\n",
       "      <td>45</td>\n",
       "      <td>No</td>\n",
       "      <td>No phone service</td>\n",
       "      <td>DSL</td>\n",
       "      <td>Yes</td>\n",
       "      <td>...</td>\n",
       "      <td>Yes</td>\n",
       "      <td>Yes</td>\n",
       "      <td>No</td>\n",
       "      <td>No</td>\n",
       "      <td>One year</td>\n",
       "      <td>No</td>\n",
       "      <td>Bank transfer (automatic)</td>\n",
       "      <td>42.30</td>\n",
       "      <td>1840.75</td>\n",
       "      <td>No</td>\n",
       "    </tr>\n",
       "    <tr>\n",
       "      <th>4</th>\n",
       "      <td>9237-HQITU</td>\n",
       "      <td>Female</td>\n",
       "      <td>0</td>\n",
       "      <td>No</td>\n",
       "      <td>No</td>\n",
       "      <td>2</td>\n",
       "      <td>Yes</td>\n",
       "      <td>No</td>\n",
       "      <td>Fiber optic</td>\n",
       "      <td>No</td>\n",
       "      <td>...</td>\n",
       "      <td>No</td>\n",
       "      <td>No</td>\n",
       "      <td>No</td>\n",
       "      <td>No</td>\n",
       "      <td>Month-to-month</td>\n",
       "      <td>Yes</td>\n",
       "      <td>Electronic check</td>\n",
       "      <td>70.70</td>\n",
       "      <td>151.65</td>\n",
       "      <td>Yes</td>\n",
       "    </tr>\n",
       "  </tbody>\n",
       "</table>\n",
       "<p>5 rows × 21 columns</p>\n",
       "</div>"
      ],
      "text/plain": [
       "   customerID  gender  SeniorCitizen Partner Dependents  tenure PhoneService  \\\n",
       "0  7590-VHVEG  Female              0     Yes         No       1           No   \n",
       "1  5575-GNVDE    Male              0      No         No      34          Yes   \n",
       "2  3668-QPYBK    Male              0      No         No       2          Yes   \n",
       "3  7795-CFOCW    Male              0      No         No      45           No   \n",
       "4  9237-HQITU  Female              0      No         No       2          Yes   \n",
       "\n",
       "      MultipleLines InternetService OnlineSecurity  ... DeviceProtection  \\\n",
       "0  No phone service             DSL             No  ...               No   \n",
       "1                No             DSL            Yes  ...              Yes   \n",
       "2                No             DSL            Yes  ...               No   \n",
       "3  No phone service             DSL            Yes  ...              Yes   \n",
       "4                No     Fiber optic             No  ...               No   \n",
       "\n",
       "  TechSupport StreamingTV StreamingMovies        Contract PaperlessBilling  \\\n",
       "0          No          No              No  Month-to-month              Yes   \n",
       "1          No          No              No        One year               No   \n",
       "2          No          No              No  Month-to-month              Yes   \n",
       "3         Yes          No              No        One year               No   \n",
       "4          No          No              No  Month-to-month              Yes   \n",
       "\n",
       "               PaymentMethod MonthlyCharges  TotalCharges Churn  \n",
       "0           Electronic check          29.85         29.85    No  \n",
       "1               Mailed check          56.95        1889.5    No  \n",
       "2               Mailed check          53.85        108.15   Yes  \n",
       "3  Bank transfer (automatic)          42.30       1840.75    No  \n",
       "4           Electronic check          70.70        151.65   Yes  \n",
       "\n",
       "[5 rows x 21 columns]"
      ]
     },
     "execution_count": 108,
     "metadata": {},
     "output_type": "execute_result"
    }
   ],
   "source": [
    "df.head()"
   ]
  },
  {
   "cell_type": "code",
   "execution_count": 109,
   "metadata": {},
   "outputs": [],
   "source": [
    "# Convert datatypes\n",
    "df['TotalCharges'] = pd.to_numeric(df['TotalCharges'], errors='coerce')\n",
    "\n",
    "# Drop NaNs\n",
    "df = df.dropna()"
   ]
  },
  {
   "attachments": {},
   "cell_type": "markdown",
   "metadata": {},
   "source": [
    "We'll begin with a few features, get the workflow and model working, then add more features to see if the model performance improves."
   ]
  },
  {
   "cell_type": "code",
   "execution_count": 110,
   "metadata": {},
   "outputs": [],
   "source": [
    "features = ['tenure', 'PhoneService', 'MultipleLines', 'InternetService', 'Contract',\n",
    "            'PaymentMethod', 'MonthlyCharges', 'TotalCharges']\n",
    "\n",
    "X = df[features]"
   ]
  },
  {
   "cell_type": "code",
   "execution_count": 111,
   "metadata": {},
   "outputs": [
    {
     "name": "stdout",
     "output_type": "stream",
     "text": [
      "Complete dataset: (7032, 8)\n",
      "Train dataset: (5625, 8)\n",
      "Test dataset: (1407, 8)\n"
     ]
    }
   ],
   "source": [
    "# Get labels column\n",
    "y = LabelEncoder().fit_transform(df['Churn'])\n",
    "\n",
    "# Test train split\n",
    "X_train, X_test, y_train, y_test = train_test_split(X, y, test_size=0.2, random_state=42)\n",
    "\n",
    "print(\"Complete dataset:\", X.shape)\n",
    "print(\"Train dataset:\", X_train.shape)\n",
    "print(\"Test dataset:\", X_test.shape)"
   ]
  },
  {
   "cell_type": "code",
   "execution_count": 112,
   "metadata": {},
   "outputs": [
    {
     "data": {
      "text/plain": [
       "0.26578498293515357"
      ]
     },
     "execution_count": 112,
     "metadata": {},
     "output_type": "execute_result"
    }
   ],
   "source": [
    "# Class balance check\n",
    "y.mean()"
   ]
  },
  {
   "attachments": {},
   "cell_type": "markdown",
   "metadata": {},
   "source": [
    "In this dataset only about 27% of customers churn which means the dataset is unbalanced. We'll deal with this later. For now let's get the initial model built."
   ]
  },
  {
   "cell_type": "code",
   "execution_count": 113,
   "metadata": {},
   "outputs": [
    {
     "name": "stdout",
     "output_type": "stream",
     "text": [
      "<class 'pandas.core.frame.DataFrame'>\n",
      "Int64Index: 5625 entries, 6030 to 862\n",
      "Data columns (total 8 columns):\n",
      " #   Column           Non-Null Count  Dtype  \n",
      "---  ------           --------------  -----  \n",
      " 0   tenure           5625 non-null   int64  \n",
      " 1   PhoneService     5625 non-null   object \n",
      " 2   MultipleLines    5625 non-null   object \n",
      " 3   InternetService  5625 non-null   object \n",
      " 4   Contract         5625 non-null   object \n",
      " 5   PaymentMethod    5625 non-null   object \n",
      " 6   MonthlyCharges   5625 non-null   float64\n",
      " 7   TotalCharges     5625 non-null   float64\n",
      "dtypes: float64(2), int64(1), object(5)\n",
      "memory usage: 395.5+ KB\n"
     ]
    }
   ],
   "source": [
    "# Last datatype check\n",
    "X_train.info()"
   ]
  },
  {
   "cell_type": "code",
   "execution_count": 114,
   "metadata": {},
   "outputs": [],
   "source": [
    "# Build model pipeline\n",
    "num_features = ['tenure', 'MonthlyCharges', 'TotalCharges']\n",
    "\n",
    "cat_features = [f for f in features if f not in num_features]\n",
    "\n",
    "ohe = ColumnTransformer([\n",
    "      ('ohe_features', OneHotEncoder(), cat_features),\n",
    "      ('scaled_num', StandardScaler(), num_features)\n",
    "      ])\n",
    "\n",
    "lr_pipe = Pipeline([('ohe', ohe),\n",
    "                    ('lr', LogisticRegression())])\n",
    "\n",
    "lr_pipe.fit(X_train, y_train);"
   ]
  },
  {
   "cell_type": "code",
   "execution_count": 115,
   "metadata": {},
   "outputs": [],
   "source": [
    "def model_evaluation(model, X, y):\n",
    "    \"\"\"Compute and display model's score metrics\"\"\"\n",
    "    y_pred = model.predict(X)\n",
    "    scores = {}\n",
    "    scores['accuracy'] = round(metrics.accuracy_score(y, y_pred), 4)\n",
    "    scores['precision'] = round(metrics.precision_score(y, y_pred), 4)\n",
    "    scores['recall'] = round(metrics.recall_score(y, y_pred), 4)\n",
    "    probs = model.predict_proba(X).T[1]\n",
    "    precisions, recalls, thresholds = metrics.precision_recall_curve(y, probs)\n",
    "    scores['area under precision-recall curve'] = round(metrics.auc(recalls, precisions), 4)\n",
    "\n",
    "    # Print scores\n",
    "    for metric, score in scores.items():\n",
    "        print(f'Test {metric}: {score}')\n",
    "\n",
    "    return scores"
   ]
  },
  {
   "cell_type": "code",
   "execution_count": 116,
   "metadata": {},
   "outputs": [
    {
     "name": "stdout",
     "output_type": "stream",
     "text": [
      "Test accuracy: 0.7861\n",
      "Test precision: 0.6174\n",
      "Test recall: 0.5134\n",
      "Test area under precision-recall curve: 0.6424\n",
      "Model weights:\n",
      "[[ 0.20818339 -0.20850892 -0.23954177  0.20818339  0.03103285 -0.18456465\n",
      "   0.7733577  -0.58911859  0.84270159 -0.05488144 -0.78814568 -0.02675818\n",
      "  -0.16698435  0.34349142 -0.15007443 -1.47039759  0.13048608  0.68277358]]\n"
     ]
    }
   ],
   "source": [
    "model_evaluation(lr_pipe, X_test, y_test);\n",
    "print(f\"Model weights:\\n{lr_pipe.named_steps['lr'].coef_}\")"
   ]
  },
  {
   "attachments": {},
   "cell_type": "markdown",
   "metadata": {},
   "source": [
    "Now that the model is working, let's wrap everything into functions to facilitate model iterations and maintenance. We want to be able to start from the raw csv (so that hypothetically newly recorded data in the future can be used), process it, extract features of interest, and run the classifier model in an automated workflow to minimize errors."
   ]
  },
  {
   "cell_type": "code",
   "execution_count": 117,
   "metadata": {},
   "outputs": [
    {
     "name": "stdout",
     "output_type": "stream",
     "text": [
      "Test accuracy: 0.7861\n",
      "Test precision: 0.6174\n",
      "Test recall: 0.5134\n",
      "Test area under precision-recall curve: 0.6424\n",
      "Train accuracy: 0.8014\n",
      "Train precision: 0.6477\n",
      "Train recall: 0.5545\n",
      "Train area under precision-recall curve: 0.6442\n"
     ]
    }
   ],
   "source": [
    "importlib.reload(common) # Reload necessary for notebooks if import was updated\n",
    "path = Path('WA_Fn-UseC_-Telco-Customer-Churn.csv')\n",
    "features = ['tenure', 'PhoneService', 'MultipleLines', 'InternetService', 'Contract',\n",
    "            'PaymentMethod', 'MonthlyCharges', 'TotalCharges']\n",
    "common.run_lr_model(path, features, LogisticRegression());"
   ]
  },
  {
   "cell_type": "code",
   "execution_count": 118,
   "metadata": {},
   "outputs": [
    {
     "name": "stdout",
     "output_type": "stream",
     "text": [
      "Test accuracy: 0.7882\n",
      "Test precision: 0.6226\n",
      "Test recall: 0.516\n",
      "Test area under precision-recall curve: 0.6294\n",
      "Train accuracy: 0.8089\n",
      "Train precision: 0.6656\n",
      "Train recall: 0.5645\n",
      "Train area under precision-recall curve: 0.6668\n"
     ]
    }
   ],
   "source": [
    "# All features included\n",
    "importlib.reload(common)\n",
    "path = Path('WA_Fn-UseC_-Telco-Customer-Churn.csv')\n",
    "features = ['gender', 'SeniorCitizen', 'Partner', 'Dependents', 'tenure', 'PhoneService', \n",
    "            'MultipleLines', 'InternetService', 'OnlineSecurity', 'OnlineBackup', \n",
    "            'DeviceProtection', 'TechSupport', 'StreamingTV', 'StreamingMovies', 'Contract',\n",
    "            'PaperlessBilling', 'PaymentMethod', 'MonthlyCharges', 'TotalCharges']\n",
    "common.run_model(path, features, LogisticRegression());"
   ]
  },
  {
   "attachments": {},
   "cell_type": "markdown",
   "metadata": {},
   "source": [
    "Including all features does not appear to improve model performance. Next let's try a Random Forest Classifier."
   ]
  },
  {
   "cell_type": "code",
   "execution_count": 119,
   "metadata": {},
   "outputs": [
    {
     "name": "stdout",
     "output_type": "stream",
     "text": [
      "Test accuracy: 0.7719\n",
      "Test precision: 0.5852\n",
      "Test recall: 0.4866\n",
      "Test area under precision-recall curve: 0.628\n",
      "Train accuracy: 0.8612\n",
      "Train precision: 0.7725\n",
      "Train recall: 0.6769\n",
      "Train area under precision-recall curve: 0.8475\n"
     ]
    }
   ],
   "source": [
    "importlib.reload(common) # Reload necessary for notebooks if import was updated\n",
    "path = Path('WA_Fn-UseC_-Telco-Customer-Churn.csv')\n",
    "features = ['tenure', 'PhoneService', 'MultipleLines', 'InternetService', 'Contract',\n",
    "            'PaymentMethod', 'MonthlyCharges', 'TotalCharges']\n",
    "common.run_model(path, features, \n",
    "        RandomForestClassifier(n_estimators=100, max_depth=10, random_state=42));"
   ]
  },
  {
   "attachments": {},
   "cell_type": "markdown",
   "metadata": {},
   "source": [
    "The more powerful Random Forest classifier appears to be overfitting. Let's add some Cross Validation to minimize that."
   ]
  },
  {
   "cell_type": "code",
   "execution_count": 120,
   "metadata": {},
   "outputs": [
    {
     "name": "stdout",
     "output_type": "stream",
     "text": [
      "Fitting 3 folds for each of 54 candidates, totalling 162 fits\n",
      "Test accuracy: 0.7868\n",
      "Test precision: 0.637\n",
      "Test recall: 0.4599\n",
      "Test area under precision-recall curve: 0.6533\n",
      "Train accuracy: 0.814\n",
      "Train precision: 0.692\n",
      "Train recall: 0.5411\n",
      "Train area under precision-recall curve: 0.6992\n",
      "Best parameters from CV: {'est__max_depth': 6, 'est__min_samples_leaf': 1, 'est__min_samples_split': 4}\n"
     ]
    }
   ],
   "source": [
    "importlib.reload(common)\n",
    "path = Path('WA_Fn-UseC_-Telco-Customer-Churn.csv')\n",
    "features = ['tenure', 'PhoneService', 'MultipleLines', 'InternetService', 'Contract',\n",
    "            'PaymentMethod', 'MonthlyCharges', 'TotalCharges']\n",
    "\n",
    "param_grid = {'est__max_depth': range(4, 10),\n",
    "              'est__min_samples_split': [2, 3, 4],\n",
    "              'est__min_samples_leaf': [1, 2, 3]}\n",
    "\n",
    "model = common.run_model(path, features, \n",
    "    RandomForestClassifier(n_estimators=100, random_state=42), param_grid);\n",
    "\n",
    "print(f'Best parameters from CV: {model.best_params_}')"
   ]
  },
  {
   "attachments": {},
   "cell_type": "markdown",
   "metadata": {},
   "source": [
    "Cross Validation for the Random Forest classifier does not seem to have significantly improved the model performance. The last lever to try is different feature subsets or additional feature engineering. We'll skip that exercise for now and instead look at one more estimator then class imbalances.\n",
    "\n",
    "Let's also try a Naive Bayes model. While its not expected to have better performance, a benefit of the developed functional approach to the classifier model is that trying alternative estimators is quick and easy."
   ]
  },
  {
   "cell_type": "code",
   "execution_count": 121,
   "metadata": {},
   "outputs": [
    {
     "name": "stdout",
     "output_type": "stream",
     "text": [
      "Test accuracy: 0.7079\n",
      "Test precision: 0.4703\n",
      "Test recall: 0.7834\n",
      "Test area under precision-recall curve: 0.6093\n",
      "Train accuracy: 0.7264\n",
      "Train precision: 0.4908\n",
      "Train recall: 0.7886\n",
      "Train area under precision-recall curve: 0.6149\n"
     ]
    }
   ],
   "source": [
    "importlib.reload(common)\n",
    "path = Path('WA_Fn-UseC_-Telco-Customer-Churn.csv')\n",
    "features = ['tenure', 'PhoneService', 'MultipleLines', 'InternetService', 'Contract',\n",
    "            'PaymentMethod', 'MonthlyCharges', 'TotalCharges']\n",
    "common.run_model(path, features, GaussianNB());"
   ]
  },
  {
   "cell_type": "code",
   "execution_count": null,
   "metadata": {},
   "outputs": [],
   "source": []
  }
 ],
 "metadata": {
  "kernelspec": {
   "display_name": ".venv_ml",
   "language": "python",
   "name": "python3"
  },
  "language_info": {
   "codemirror_mode": {
    "name": "ipython",
    "version": 3
   },
   "file_extension": ".py",
   "mimetype": "text/x-python",
   "name": "python",
   "nbconvert_exporter": "python",
   "pygments_lexer": "ipython3",
   "version": "3.9.12"
  },
  "orig_nbformat": 4
 },
 "nbformat": 4,
 "nbformat_minor": 2
}
